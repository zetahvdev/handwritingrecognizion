{
 "cells": [
  {
   "cell_type": "code",
   "execution_count": 43,
   "id": "d963b943",
   "metadata": {},
   "outputs": [],
   "source": [
    "import tensorflow.keras as kr\n",
    "import button_pos_script as btp\n",
    "import pandas as pd\n",
    "import numpy as np\n",
    "import matplotlib.pyplot as plt"
   ]
  },
  {
   "cell_type": "code",
   "execution_count": 3,
   "id": "7ab84b19",
   "metadata": {},
   "outputs": [],
   "source": [
    "data = kr.datasets.mnist"
   ]
  },
  {
   "cell_type": "code",
   "execution_count": 6,
   "id": "9b5f712c",
   "metadata": {},
   "outputs": [],
   "source": [
    "(xtrain, ytrain), (xtest, ytest) = data.load_data()"
   ]
  },
  {
   "cell_type": "code",
   "execution_count": 13,
   "id": "8d7cd65f",
   "metadata": {},
   "outputs": [
    {
     "data": {
      "text/plain": [
       "array([5, 0, 4, ..., 5, 6, 8], dtype=uint8)"
      ]
     },
     "execution_count": 13,
     "metadata": {},
     "output_type": "execute_result"
    }
   ],
   "source": [
    "ytrain"
   ]
  },
  {
   "cell_type": "code",
   "execution_count": 17,
   "id": "ae2369c4",
   "metadata": {},
   "outputs": [],
   "source": [
    "data = btp.pd_events_to_np(pd.read_csv('test3.csv'))"
   ]
  },
  {
   "cell_type": "code",
   "execution_count": 35,
   "id": "df436164",
   "metadata": {},
   "outputs": [],
   "source": [
    "data = data / [1280, 720]\n",
    "datax = np.copy(data[0])\n",
    "\n",
    "def sequence(m, n):\n",
    "    li = []\n",
    "    for i in range(len(m)-n+1):\n",
    "        li.append(m[i:i+n])\n",
    "    return np.array(li)\n",
    "\n",
    "posty = sequence(datax, 100)"
   ]
  },
  {
   "cell_type": "code",
   "execution_count": 40,
   "id": "d67f0917",
   "metadata": {},
   "outputs": [
    {
     "data": {
      "text/plain": [
       "(9901, 100, 2)"
      ]
     },
     "execution_count": 40,
     "metadata": {},
     "output_type": "execute_result"
    }
   ],
   "source": [
    "posty.shape"
   ]
  },
  {
   "cell_type": "code",
   "execution_count": 45,
   "id": "8f1089e4",
   "metadata": {},
   "outputs": [],
   "source": [
    "li = []\n",
    "\n",
    "# [-1, -1] : 0\n",
    "# [-1, 0] : 1\n",
    "# [-1, 1] : 2\n",
    "# [0, -1] : 3\n",
    "# [0, 0] : 4\n",
    "# [0, 1] : 5\n",
    "# [1, -1] : 6\n",
    "# [1, 0] : 7\n",
    "# [1, 1] : 8\n",
    "\n",
    "for i in range(len(posty) - 1):\n",
    "    if (posty[i][0] == [0, 0]).all():\n",
    "        li.append(4)\n",
    "    i += 1\n",
    "    \n",
    "    if (np.sign(posty[i][0] - posty[i - 1][-1]) == [-1, -1]).all():\n",
    "        li.append(0)\n",
    "    elif (np.sign(posty[i][0] - posty[i - 1][-1]) == [-1, 0]).all():\n",
    "        li.append(1)\n",
    "    elif (np.sign(posty[i][0] - posty[i][-1]) == [-1, 1]).all():\n",
    "        li.append(2)\n",
    "    elif (np.sign(posty[i][0] - posty[i][-1]) == [0, -1]).all():\n",
    "        li.append(3)\n",
    "    elif (np.sign(posty[i][0] - posty[i][-1]) == [0, 0]).all():\n",
    "        li.append(4)\n",
    "    elif (np.sign(posty[i][0] - posty[i][-1]) == [0, 1]).all():\n",
    "        li.append(5)\n",
    "    elif (np.sign(posty[i][0] - posty[i][-1]) == [1, -1]).all():\n",
    "        li.append(6)\n",
    "    elif (np.sign(posty[i][0] - posty[i][-1]) == [1, 0]).all():\n",
    "        li.append(7)\n",
    "    elif (np.sign(posty[i][0] - posty[i][-1]) == [1, 1]).all():\n",
    "        li.append(8)\n",
    "# if (np.sign(posty[1][0] - posty[-1][0]) == [-1, 1]).all():\n",
    "#    print(\"works\")\n",
    "\n",
    "postyy = np.array(li)"
   ]
  },
  {
   "cell_type": "code",
   "execution_count": 56,
   "id": "5918e7a5",
   "metadata": {},
   "outputs": [
    {
     "data": {
      "text/plain": [
       "(array([348.,  62., 580.,   2.,   0.,   0.,   0., 567.,   0.,  99.]),\n",
       " array([0. , 0.8, 1.6, 2.4, 3.2, 4. , 4.8, 5.6, 6.4, 7.2, 8. ]),\n",
       " <BarContainer object of 10 artists>)"
      ]
     },
     "execution_count": 56,
     "metadata": {},
     "output_type": "execute_result"
    },
    {
     "data": {
      "image/png": "[encoded data removed]",
      "text/plain": [
       "<Figure size 432x288 with 1 Axes>"
      ]
     },
     "metadata": {
      "needs_background": "light"
     },
     "output_type": "display_data"
    }
   ],
   "source": [
    "plt.ion()\n",
    "plt.hist(postyy[postyy != 4])"
   ]
  },
  {
   "cell_type": "code",
   "execution_count": null,
   "id": "2bc78618",
   "metadata": {},
   "outputs": [],
   "source": []
  }
 ],
 "metadata": {
  "kernelspec": {
   "display_name": "Python 3",
   "language": "python",
   "name": "python3"
  },
  "language_info": {
   "codemirror_mode": {
    "name": "ipython",
    "version": 3
   },
   "file_extension": ".py",
   "mimetype": "text/x-python",
   "name": "python",
   "nbconvert_exporter": "python",
   "pygments_lexer": "ipython3",
   "version": "3.6.13"
  }
 },
 "nbformat": 4,
 "nbformat_minor": 5
}
