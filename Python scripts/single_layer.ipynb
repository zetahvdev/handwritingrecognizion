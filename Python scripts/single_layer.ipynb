{
 "cells": [
  {
   "cell_type": "code",
   "execution_count": null,
   "source": [
    "import tensorflow.keras as kr"
   ],
   "outputs": [],
   "metadata": {}
  },
  {
   "cell_type": "code",
   "execution_count": null,
   "source": [
    "import numpy as np\r\n",
    "import pandas as pd\r\n",
    "import matplotlib.pyplot as plt"
   ],
   "outputs": [],
   "metadata": {}
  },
  {
   "cell_type": "code",
   "execution_count": 159,
   "source": [
    "sample_ds = np.array([\r\n",
    "    [2, 4, 4],\r\n",
    "    [4, 6, 6],\r\n",
    "    [10, 3, 4],\r\n",
    "    [1, 1, 1],\r\n",
    "    [2, 3, 4],\r\n",
    "    [4, 4, 4],\r\n",
    "    [1, 2, 3],\r\n",
    "    [4, 5, 1],\r\n",
    "    [2, 2, 2],\r\n",
    "    [8, 8, 9],\r\n",
    "    [3, 3, 3],\r\n",
    "    [10, 10, 11],\r\n",
    "    [3, 3, 3],\r\n",
    "    [2, 6, 9],\r\n",
    "    [1, 1, 10],\r\n",
    "    [4, 4, 4],\r\n",
    "    [3, 3, 3],\r\n",
    "    [12, 12, 12],\r\n",
    "    [3, 10, 1],\r\n",
    "    [9, 9, 9],\r\n",
    "    [3, 3, 3],\r\n",
    "    [22, 22, 37],\r\n",
    "    [10, 11, 3],\r\n",
    "    [1, 1, 1],\r\n",
    "    [9, 10, 11],\r\n",
    "    [9, 11, 3],\r\n",
    "    [4, 4, 4],\r\n",
    "    [1, 1, 3],\r\n",
    "    [1, 9, 1],\r\n",
    "    [9, 1, 1],\r\n",
    "    [6, 6, 6],\r\n",
    "    [3, 3, 3],\r\n",
    "    [22, 22, 23],\r\n",
    "    [6, 6, 6],\r\n",
    "    [20, 20, 20],\r\n",
    "    [10, 10, 10],\r\n",
    "    [24, 13, 3],\r\n",
    "    [12, 2, 1],\r\n",
    "    [10, 10, 10],\r\n",
    "    [1, 1, 1],\r\n",
    "    [3, 4, 9],\r\n",
    "    [24, 24, 24],\r\n",
    "    [2, 2, 2],\r\n",
    "    [4, 4, 4],\r\n",
    "    [6, 6, 6],\r\n",
    "    [23, 23, 24],\r\n",
    "    [10, 10, 10],\r\n",
    "    [10, 10, 10],\r\n",
    "    [10, 10, 10],\r\n",
    "    [10, 10, 10],\r\n",
    "    [10, 10, 10],\r\n",
    "    [10, 10, 10],\r\n",
    "    [4, 10, 3],\r\n",
    "    [4, 5, 3],\r\n",
    "    [4, 6, 3],\r\n",
    "    [4, 7, 3],\r\n",
    "    [4, 8, 9],\r\n",
    "    [4, 9, 10],\r\n",
    "    [2, 11, 10],\r\n",
    "    [11, 2, 3],\r\n",
    "    [11, 2, 3],\r\n",
    "])"
   ],
   "outputs": [],
   "metadata": {}
  },
  {
   "cell_type": "code",
   "execution_count": 160,
   "source": [
    "truth = [[1, 0] if item[0] == item[1] == item[2] else [0, 1] for item in sample_ds]"
   ],
   "outputs": [],
   "metadata": {}
  },
  {
   "cell_type": "code",
   "execution_count": 161,
   "source": [
    "truth = np.array(truth)"
   ],
   "outputs": [],
   "metadata": {}
  },
  {
   "cell_type": "code",
   "execution_count": 242,
   "source": [
    "sample_ds = kr.utils.normalize(sample_ds)"
   ],
   "outputs": [],
   "metadata": {}
  },
  {
   "cell_type": "code",
   "execution_count": 216,
   "source": [
    "model = kr.models.Sequential()\r\n",
    "model.add(kr.layers.Input(shape=3))\r\n",
    "\r\n",
    "model.add(kr.layers.Dense(5, activation='sigmoid'))\r\n",
    "\r\n",
    "model.add(kr.layers.Dense(2,activation='softmax'))"
   ],
   "outputs": [],
   "metadata": {}
  },
  {
   "cell_type": "code",
   "execution_count": 217,
   "source": [
    "opt = kr.optimizers.Adam(lr=0.1, decay=1e-2)\r\n",
    "model.compile(loss='categorical_crossentropy', optimizer=opt, metrics=['accuracy'])"
   ],
   "outputs": [],
   "metadata": {}
  },
  {
   "cell_type": "code",
   "execution_count": 218,
   "source": [
    "history = model.fit(sample_ds, truth, epochs=100)"
   ],
   "outputs": [
    {
     "output_type": "stream",
     "name": "stdout",
     "text": [
      "Train on 60 samples\n",
      "Epoch 1/100\n",
      "60/60 [==============================] - 0s 4ms/sample - loss: 0.7207 - accuracy: 0.4833\n",
      "Epoch 2/100\n",
      "60/60 [==============================] - 0s 65us/sample - loss: 0.6989 - accuracy: 0.4833\n",
      "Epoch 3/100\n",
      "60/60 [==============================] - 0s 67us/sample - loss: 0.7014 - accuracy: 0.4833\n",
      "Epoch 4/100\n",
      "60/60 [==============================] - 0s 49us/sample - loss: 0.6827 - accuracy: 0.6000\n",
      "Epoch 5/100\n",
      "60/60 [==============================] - 0s 50us/sample - loss: 0.6834 - accuracy: 0.5167\n",
      "Epoch 6/100\n",
      "60/60 [==============================] - 0s 50us/sample - loss: 0.6900 - accuracy: 0.5167\n",
      "Epoch 7/100\n",
      "60/60 [==============================] - 0s 50us/sample - loss: 0.6772 - accuracy: 0.5167\n",
      "Epoch 8/100\n",
      "60/60 [==============================] - 0s 83us/sample - loss: 0.6755 - accuracy: 0.7500\n",
      "Epoch 9/100\n",
      "60/60 [==============================] - 0s 66us/sample - loss: 0.6781 - accuracy: 0.5667\n",
      "Epoch 10/100\n",
      "60/60 [==============================] - 0s 50us/sample - loss: 0.6730 - accuracy: 0.4833\n",
      "Epoch 11/100\n",
      "60/60 [==============================] - 0s 50us/sample - loss: 0.6665 - accuracy: 0.5167\n",
      "Epoch 12/100\n",
      "60/60 [==============================] - 0s 67us/sample - loss: 0.6669 - accuracy: 0.5000\n",
      "Epoch 13/100\n",
      "60/60 [==============================] - 0s 50us/sample - loss: 0.6691 - accuracy: 0.5000\n",
      "Epoch 14/100\n",
      "60/60 [==============================] - 0s 50us/sample - loss: 0.6563 - accuracy: 0.8167\n",
      "Epoch 15/100\n",
      "60/60 [==============================] - 0s 50us/sample - loss: 0.6597 - accuracy: 0.6167\n",
      "Epoch 16/100\n",
      "60/60 [==============================] - 0s 67us/sample - loss: 0.6508 - accuracy: 0.6667\n",
      "Epoch 17/100\n",
      "60/60 [==============================] - 0s 50us/sample - loss: 0.6485 - accuracy: 0.8167\n",
      "Epoch 18/100\n",
      "60/60 [==============================] - 0s 50us/sample - loss: 0.6439 - accuracy: 0.8000\n",
      "Epoch 19/100\n",
      "60/60 [==============================] - 0s 33us/sample - loss: 0.6477 - accuracy: 0.5667\n",
      "Epoch 20/100\n",
      "60/60 [==============================] - 0s 54us/sample - loss: 0.6370 - accuracy: 0.6000\n",
      "Epoch 21/100\n",
      "60/60 [==============================] - 0s 83us/sample - loss: 0.6324 - accuracy: 0.8000\n",
      "Epoch 22/100\n",
      "60/60 [==============================] - 0s 50us/sample - loss: 0.6269 - accuracy: 0.8167\n",
      "Epoch 23/100\n",
      "60/60 [==============================] - 0s 50us/sample - loss: 0.6275 - accuracy: 0.5833\n",
      "Epoch 24/100\n",
      "60/60 [==============================] - 0s 50us/sample - loss: 0.6201 - accuracy: 0.8667\n",
      "Epoch 25/100\n",
      "60/60 [==============================] - 0s 66us/sample - loss: 0.6139 - accuracy: 0.8167\n",
      "Epoch 26/100\n",
      "60/60 [==============================] - 0s 50us/sample - loss: 0.6114 - accuracy: 0.8000\n",
      "Epoch 27/100\n",
      "60/60 [==============================] - 0s 84us/sample - loss: 0.6115 - accuracy: 0.8167\n",
      "Epoch 28/100\n",
      "60/60 [==============================] - 0s 50us/sample - loss: 0.6016 - accuracy: 0.8167\n",
      "Epoch 29/100\n",
      "60/60 [==============================] - 0s 50us/sample - loss: 0.5971 - accuracy: 0.8167\n",
      "Epoch 30/100\n",
      "60/60 [==============================] - 0s 50us/sample - loss: 0.5939 - accuracy: 0.8167\n",
      "Epoch 31/100\n",
      "60/60 [==============================] - 0s 50us/sample - loss: 0.5881 - accuracy: 0.8333\n",
      "Epoch 32/100\n",
      "60/60 [==============================] - 0s 49us/sample - loss: 0.5849 - accuracy: 0.8333\n",
      "Epoch 33/100\n",
      "60/60 [==============================] - 0s 67us/sample - loss: 0.5791 - accuracy: 0.8333\n",
      "Epoch 34/100\n",
      "60/60 [==============================] - 0s 50us/sample - loss: 0.5734 - accuracy: 0.8333\n",
      "Epoch 35/100\n",
      "60/60 [==============================] - 0s 33us/sample - loss: 0.5694 - accuracy: 0.8333\n",
      "Epoch 36/100\n",
      "60/60 [==============================] - 0s 34us/sample - loss: 0.5629 - accuracy: 0.8333\n",
      "Epoch 37/100\n",
      "60/60 [==============================] - 0s 49us/sample - loss: 0.5565 - accuracy: 0.8500\n",
      "Epoch 38/100\n",
      "60/60 [==============================] - 0s 66us/sample - loss: 0.5512 - accuracy: 0.8500\n",
      "Epoch 39/100\n",
      "60/60 [==============================] - 0s 50us/sample - loss: 0.5459 - accuracy: 0.8500\n",
      "Epoch 40/100\n",
      "60/60 [==============================] - 0s 33us/sample - loss: 0.5451 - accuracy: 0.8667\n",
      "Epoch 41/100\n",
      "60/60 [==============================] - 0s 50us/sample - loss: 0.5352 - accuracy: 0.8667\n",
      "Epoch 42/100\n",
      "60/60 [==============================] - 0s 49us/sample - loss: 0.5273 - accuracy: 0.8667\n",
      "Epoch 43/100\n",
      "60/60 [==============================] - 0s 44us/sample - loss: 0.5206 - accuracy: 0.8667\n",
      "Epoch 44/100\n",
      "60/60 [==============================] - 0s 50us/sample - loss: 0.5164 - accuracy: 0.8667\n",
      "Epoch 45/100\n",
      "60/60 [==============================] - 0s 33us/sample - loss: 0.5194 - accuracy: 0.8667\n",
      "Epoch 46/100\n",
      "60/60 [==============================] - 0s 66us/sample - loss: 0.5047 - accuracy: 0.8667\n",
      "Epoch 47/100\n",
      "60/60 [==============================] - 0s 66us/sample - loss: 0.4955 - accuracy: 0.8500\n",
      "Epoch 48/100\n",
      "60/60 [==============================] - 0s 49us/sample - loss: 0.5001 - accuracy: 0.8167\n",
      "Epoch 49/100\n",
      "60/60 [==============================] - 0s 49us/sample - loss: 0.4962 - accuracy: 0.8167\n",
      "Epoch 50/100\n",
      "60/60 [==============================] - 0s 67us/sample - loss: 0.4781 - accuracy: 0.8833\n",
      "Epoch 51/100\n",
      "60/60 [==============================] - 0s 49us/sample - loss: 0.4745 - accuracy: 0.8833\n",
      "Epoch 52/100\n",
      "60/60 [==============================] - 0s 67us/sample - loss: 0.4660 - accuracy: 0.8833\n",
      "Epoch 53/100\n",
      "60/60 [==============================] - 0s 33us/sample - loss: 0.4625 - accuracy: 0.8667\n",
      "Epoch 54/100\n",
      "60/60 [==============================] - 0s 50us/sample - loss: 0.4581 - accuracy: 0.8667\n",
      "Epoch 55/100\n",
      "60/60 [==============================] - 0s 50us/sample - loss: 0.4534 - accuracy: 0.8833\n",
      "Epoch 56/100\n",
      "60/60 [==============================] - 0s 50us/sample - loss: 0.4450 - accuracy: 0.8833\n",
      "Epoch 57/100\n",
      "60/60 [==============================] - 0s 33us/sample - loss: 0.4373 - accuracy: 0.8833\n",
      "Epoch 58/100\n",
      "60/60 [==============================] - 0s 50us/sample - loss: 0.4474 - accuracy: 0.8333\n",
      "Epoch 59/100\n",
      "60/60 [==============================] - 0s 49us/sample - loss: 0.4349 - accuracy: 0.8667\n",
      "Epoch 60/100\n",
      "60/60 [==============================] - 0s 50us/sample - loss: 0.4314 - accuracy: 0.8833\n",
      "Epoch 61/100\n",
      "60/60 [==============================] - 0s 50us/sample - loss: 0.4247 - accuracy: 0.8833\n",
      "Epoch 62/100\n",
      "60/60 [==============================] - 0s 67us/sample - loss: 0.4141 - accuracy: 0.8833\n",
      "Epoch 63/100\n",
      "60/60 [==============================] - 0s 67us/sample - loss: 0.4104 - accuracy: 0.8667\n",
      "Epoch 64/100\n",
      "60/60 [==============================] - 0s 49us/sample - loss: 0.4065 - accuracy: 0.8667\n",
      "Epoch 65/100\n",
      "60/60 [==============================] - 0s 50us/sample - loss: 0.4083 - accuracy: 0.8833\n",
      "Epoch 66/100\n",
      "60/60 [==============================] - 0s 66us/sample - loss: 0.3975 - accuracy: 0.8833\n",
      "Epoch 67/100\n",
      "60/60 [==============================] - 0s 49us/sample - loss: 0.3933 - accuracy: 0.8833\n",
      "Epoch 68/100\n",
      "60/60 [==============================] - 0s 33us/sample - loss: 0.3900 - accuracy: 0.8667\n",
      "Epoch 69/100\n",
      "60/60 [==============================] - 0s 49us/sample - loss: 0.3860 - accuracy: 0.8667\n",
      "Epoch 70/100\n",
      "60/60 [==============================] - 0s 50us/sample - loss: 0.3823 - accuracy: 0.8667\n",
      "Epoch 71/100\n",
      "60/60 [==============================] - 0s 50us/sample - loss: 0.3792 - accuracy: 0.8833\n",
      "Epoch 72/100\n",
      "60/60 [==============================] - 0s 50us/sample - loss: 0.3753 - accuracy: 0.8833\n",
      "Epoch 73/100\n",
      "60/60 [==============================] - 0s 51us/sample - loss: 0.3719 - accuracy: 0.8833\n",
      "Epoch 74/100\n",
      "60/60 [==============================] - 0s 33us/sample - loss: 0.3687 - accuracy: 0.8833\n",
      "Epoch 75/100\n",
      "60/60 [==============================] - 0s 50us/sample - loss: 0.3677 - accuracy: 0.8667\n",
      "Epoch 76/100\n",
      "60/60 [==============================] - 0s 49us/sample - loss: 0.3626 - accuracy: 0.8833\n",
      "Epoch 77/100\n",
      "60/60 [==============================] - 0s 50us/sample - loss: 0.3590 - accuracy: 0.8833\n",
      "Epoch 78/100\n",
      "60/60 [==============================] - 0s 66us/sample - loss: 0.3561 - accuracy: 0.9000\n",
      "Epoch 79/100\n",
      "60/60 [==============================] - 0s 67us/sample - loss: 0.3533 - accuracy: 0.9000\n",
      "Epoch 80/100\n",
      "60/60 [==============================] - 0s 66us/sample - loss: 0.3510 - accuracy: 0.8667\n",
      "Epoch 81/100\n",
      "60/60 [==============================] - 0s 67us/sample - loss: 0.3482 - accuracy: 0.8667\n",
      "Epoch 82/100\n",
      "60/60 [==============================] - 0s 66us/sample - loss: 0.3455 - accuracy: 0.8667\n",
      "Epoch 83/100\n",
      "60/60 [==============================] - 0s 67us/sample - loss: 0.3444 - accuracy: 0.8833\n",
      "Epoch 84/100\n",
      "60/60 [==============================] - 0s 83us/sample - loss: 0.3426 - accuracy: 0.8833\n",
      "Epoch 85/100\n",
      "60/60 [==============================] - 0s 66us/sample - loss: 0.3398 - accuracy: 0.8833\n",
      "Epoch 86/100\n",
      "60/60 [==============================] - 0s 50us/sample - loss: 0.3355 - accuracy: 0.9167\n",
      "Epoch 87/100\n",
      "60/60 [==============================] - 0s 67us/sample - loss: 0.3329 - accuracy: 0.8833\n",
      "Epoch 88/100\n",
      "60/60 [==============================] - 0s 50us/sample - loss: 0.3321 - accuracy: 0.8833\n",
      "Epoch 89/100\n",
      "60/60 [==============================] - 0s 83us/sample - loss: 0.3293 - accuracy: 0.8833\n",
      "Epoch 90/100\n",
      "60/60 [==============================] - 0s 66us/sample - loss: 0.3314 - accuracy: 0.9000\n",
      "Epoch 91/100\n",
      "60/60 [==============================] - 0s 50us/sample - loss: 0.3256 - accuracy: 0.9167\n",
      "Epoch 92/100\n",
      "60/60 [==============================] - 0s 33us/sample - loss: 0.3231 - accuracy: 0.9000\n",
      "Epoch 93/100\n",
      "60/60 [==============================] - 0s 50us/sample - loss: 0.3218 - accuracy: 0.9000\n",
      "Epoch 94/100\n",
      "60/60 [==============================] - 0s 50us/sample - loss: 0.3200 - accuracy: 0.9000\n",
      "Epoch 95/100\n",
      "60/60 [==============================] - 0s 41us/sample - loss: 0.3173 - accuracy: 0.9000\n",
      "Epoch 96/100\n",
      "60/60 [==============================] - 0s 50us/sample - loss: 0.3188 - accuracy: 0.9167\n",
      "Epoch 97/100\n",
      "60/60 [==============================] - 0s 50us/sample - loss: 0.3212 - accuracy: 0.9167\n",
      "Epoch 98/100\n",
      "60/60 [==============================] - 0s 50us/sample - loss: 0.3130 - accuracy: 0.9000\n",
      "Epoch 99/100\n",
      "60/60 [==============================] - 0s 49us/sample - loss: 0.3118 - accuracy: 0.9000\n",
      "Epoch 100/100\n",
      "60/60 [==============================] - 0s 64us/sample - loss: 0.3099 - accuracy: 0.9000\n"
     ]
    }
   ],
   "metadata": {}
  },
  {
   "cell_type": "code",
   "execution_count": 219,
   "source": [
    "plt.plot(history.history[\"accuracy\"])"
   ],
   "outputs": [
    {
     "output_type": "execute_result",
     "data": {
      "text/plain": [
       "[<matplotlib.lines.Line2D at 0x1bde83b6cc0>]"
      ]
     },
     "metadata": {},
     "execution_count": 219
    },
    {
     "output_type": "display_data",
     "data": {
      "image/png": "[encoded data removed]",
      "text/plain": [
       "<Figure size 432x288 with 1 Axes>"
      ]
     },
     "metadata": {
      "needs_background": "light"
     }
    }
   ],
   "metadata": {}
  },
  {
   "cell_type": "markdown",
   "source": [
    "Remplaza los valores de esta lista con la prueba que desea realizar"
   ],
   "metadata": {}
  },
  {
   "cell_type": "code",
   "execution_count": 241,
   "source": [
    "try_this = [4, 5, 4]"
   ],
   "outputs": [],
   "metadata": {}
  },
  {
   "cell_type": "code",
   "execution_count": 240,
   "source": [
    "test = kr.utils.normalize(np.array([try_this]))\r\n",
    "answer = np.round(model.predict(test))\r\n",
    "print(\"No son iguales\" if np.all(answer == [0, 1]) else \"Son iguales\")"
   ],
   "outputs": [
    {
     "output_type": "stream",
     "name": "stdout",
     "text": [
      "No son iguales\n"
     ]
    }
   ],
   "metadata": {}
  },
  {
   "cell_type": "code",
   "execution_count": null,
   "source": [],
   "outputs": [],
   "metadata": {}
  }
 ],
 "metadata": {
  "orig_nbformat": 4,
  "language_info": {
   "name": "python",
   "version": "3.6.13",
   "mimetype": "text/x-python",
   "codemirror_mode": {
    "name": "ipython",
    "version": 3
   },
   "pygments_lexer": "ipython3",
   "nbconvert_exporter": "python",
   "file_extension": ".py"
  },
  "kernelspec": {
   "name": "python3",
   "display_name": "Python 3.6.13 64-bit ('ts1': conda)"
  },
  "interpreter": {
   "hash": "f775c80de0685a168be2b98653b666dd5bb313425bd54f330dc41d88e8064495"
  }
 },
 "nbformat": 4,
 "nbformat_minor": 2
}